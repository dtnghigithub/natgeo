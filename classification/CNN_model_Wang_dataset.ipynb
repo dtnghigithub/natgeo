{
  "nbformat": 4,
  "nbformat_minor": 0,
  "metadata": {
    "kernelspec": {
      "display_name": "Python 3",
      "language": "python",
      "name": "python3"
    },
    "language_info": {
      "codemirror_mode": {
        "name": "ipython",
        "version": 3
      },
      "file_extension": ".py",
      "mimetype": "text/x-python",
      "name": "python",
      "nbconvert_exporter": "python",
      "pygments_lexer": "ipython3",
      "version": "3.6.5"
    },
    "colab": {
      "name": "CNN model_Wang dataset.ipynb",
      "provenance": [],
      "collapsed_sections": []
    }
  },
  "cells": [
    {
      "cell_type": "code",
      "metadata": {
        "id": "Tid_mRm8Fa7Z",
        "colab_type": "code",
        "colab": {}
      },
      "source": [
        "import numpy as np\n",
        "#import pandas as pd\n",
        "#import matplotlib.pyplot as plt\n",
        "import tensorflow as tf\n",
        "import keras\n",
        "import glob\n",
        "import cv2\n",
        "\n",
        "import os\n",
        "\n",
        "#TRAINGING SET:"
      ],
      "execution_count": 3,
      "outputs": []
    },
    {
      "cell_type": "markdown",
      "metadata": {
        "id": "8-AJ9C3rIIgR",
        "colab_type": "text"
      },
      "source": [
        ""
      ]
    },
    {
      "cell_type": "code",
      "metadata": {
        "id": "xQt5WyjOFa7n",
        "colab_type": "code",
        "colab": {}
      },
      "source": [
        "def getImagesfromWang(no_of_classes):\n",
        "    insect_images = []\n",
        "    labels = []\n",
        "    i = 0\n",
        "    for insect_dir_path in glob.glob(\"/content/sample_data/Wang dataset/*\"):\n",
        "        insect_label = insect_dir_path.split(\"/\")[-1]\n",
        "        \n",
        "        if no_of_classes == i:\n",
        "            break\n",
        "        for image_path in glob.glob(os.path.join(insect_dir_path, \"*.jpg\")):\n",
        "            image = cv2.imread(image_path, cv2.IMREAD_COLOR)\n",
        "\n",
        "            image = cv2.resize(image, (64, 64)) \n",
        "            image = cv2.cvtColor(image, cv2.COLOR_RGB2BGR)\n",
        "\n",
        "            insect_images.append(image)\n",
        "            labels.append(insect_label)\n",
        "        i = i + 1\n",
        "\n",
        "    insect_images = np.array(insect_images)\n",
        "    labels = np.array(labels)\n",
        "    label_to_id_dict = {v: i for i, v in enumerate(np.unique(labels))}\n",
        "    id_to_label_dict = {v: k for k, v in label_to_id_dict.items()}\n",
        "    id_to_label_dict\n",
        "\n",
        "\n",
        "    label_ids = np.array([label_to_id_dict[x] for x in labels])\n",
        "    insect_images.shape, label_ids.shape, labels.shape\n",
        "    \n",
        "    print (\"Total Images : \" +  str(insect_images.shape[0]))\n",
        "    return insect_images, label_ids"
      ],
      "execution_count": 4,
      "outputs": []
    },
    {
      "cell_type": "code",
      "metadata": {
        "id": "NlvDS_rwFa70",
        "colab_type": "code",
        "colab": {
          "base_uri": "https://localhost:8080/",
          "height": 52
        },
        "outputId": "da0e2701-44d8-4e0d-8b90-d81aa13d44d0"
      },
      "source": [
        "insects_9_classes, labels_9_classes = getImagesfromWang(no_of_classes=9)\n",
        "insects_5_classes, labels_5_classes = getImagesfromWang(no_of_classes=5)"
      ],
      "execution_count": 7,
      "outputs": [
        {
          "output_type": "stream",
          "text": [
            "Total Images : 281\n",
            "Total Images : 281\n"
          ],
          "name": "stdout"
        }
      ]
    },
    {
      "cell_type": "code",
      "metadata": {
        "id": "6WPwfv_vFa7-",
        "colab_type": "code",
        "colab": {}
      },
      "source": [
        "#SETTING UP THE NEURAL NETWORK\n",
        "def modelCNN(X_train, X_test, Y_train, Y_test, Y, numClasses):\n",
        "    from keras.models import Sequential\n",
        "    from keras.layers import Dense, Dropout, Flatten, Conv2D, MaxPooling2D\n",
        "    from sklearn.metrics import confusion_matrix\n",
        "    from sklearn.metrics import accuracy_score\n",
        "    from sklearn.metrics import classification_report\n",
        "    \n",
        "    model_cnn = Sequential()\n",
        "    # First convolutional layer, note the specification of shape\n",
        "    model_cnn.add(Conv2D(32, kernel_size=(3,3),\n",
        "                     activation='relu',\n",
        "                     input_shape=(64, 64, 3)))\n",
        "\n",
        "    #Second layer\n",
        "    model_cnn.add(Conv2D(64, (3, 3), activation='relu'))\n",
        "    #model_cnn.add(Conv2D(64, (3, 3), activation='relu'))\n",
        "    model_cnn.add(MaxPooling2D(pool_size=(2, 2)))\n",
        "\n",
        "    #Third Layer\n",
        "    model_cnn.add(Conv2D(64, (3, 3), activation='relu'))\n",
        "    #model_cnn.add(Conv2D(64, (3, 3), activation='relu'))\n",
        "    model_cnn.add(MaxPooling2D(pool_size=(2, 2)))\n",
        "\n",
        "    #Fourth layer\n",
        "    model_cnn.add(Conv2D(128, (3, 3), activation='relu'))\n",
        "\n",
        "    model_cnn.add(Conv2D(128, (3, 3), activation='relu'))\n",
        "    model_cnn.add(MaxPooling2D(pool_size=(2, 2)))\n",
        "\n",
        "\n",
        "    model_cnn.add(Dropout(0.25))\n",
        "    model_cnn.add(Flatten())\n",
        "    model_cnn.add(Dense(128, activation='relu'))\n",
        "    model_cnn.add(Dropout(0.5))\n",
        "    model_cnn.add(Dense(numClasses, activation='softmax'))\n",
        "\n",
        "    opt = keras.optimizers.Adam(lr=0.001)\n",
        "    model_cnn.compile(loss=keras.losses.categorical_crossentropy,\n",
        "                  optimizer=opt,\n",
        "                  metrics=['accuracy'])\n",
        "\n",
        "   \n",
        "\n",
        "    model_cnn.fit(X_train, Y_train,\n",
        "              batch_size=64,\n",
        "              epochs=50,\n",
        "              verbose=1,\n",
        "              validation_data=(X_test, Y_test))\n",
        "\n",
        "    predict = model_cnn.predict(X_test, batch_size=1)\n",
        "    y = np.argmax(predict, axis=1)\n",
        "\n",
        "    \n",
        "    print('Accuracy Score :',accuracy_score(Y, y))\n",
        " \n",
        "    return accuracy_score(Y, y)  \n"
      ],
      "execution_count": 8,
      "outputs": []
    },
    {
      "cell_type": "code",
      "metadata": {
        "id": "AYVw7RYrFa8E",
        "colab_type": "code",
        "colab": {}
      },
      "source": [
        "from sklearn.model_selection import KFold\n",
        "import keras\n",
        "\n",
        "def getKFoldCV(Images, Labels, numClasses):\n",
        "    # KFold Cross Validation approach\n",
        "    kf = KFold(n_splits=9,shuffle=True,random_state=1245)\n",
        "    kf.split(Images)\n",
        "\n",
        "    # Initialize the accuracy of the models to blank list. The accuracy of each model will be appended to this list\n",
        "    accuracy_model = []\n",
        "\n",
        "    # Iterate over each train-test split\n",
        "    for train_index, test_index in kf.split(Images):\n",
        "        # Split train-test\n",
        "        X_train, X_test = Images[train_index], Images[test_index]\n",
        "        Y_train, Y_test = Labels[train_index], Labels[test_index]\n",
        "        Y=Y_test\n",
        "\n",
        "        #Normalize color values to between 0 and 1\n",
        "        X_train = X_train/255\n",
        "        X_test = X_test/255\n",
        "\n",
        "        #Make a flattened version for some of our models\n",
        "        X_flat_train = X_train.reshape(X_train.shape[0], 64*64*3)\n",
        "        X_flat_test = X_test.reshape(X_test.shape[0], 64*64*3)\n",
        "\n",
        "        #One Hot Encode the Output\n",
        "        Y_train = keras.utils.to_categorical(Y_train,numClasses)\n",
        "        Y_test = keras.utils.to_categorical(Y_test,numClasses)\n",
        "\n",
        "        # Train the model\n",
        "        print('Original Sizes:', X_train.shape, X_test.shape, Y_train.shape, Y_test.shape)\n",
        "        accuracy_model.append(modelCNN(X_train, X_test, Y_train, Y_test, Y, numClasses))\n",
        "    \n",
        "    return (accuracy_model) \n",
        "\n",
        "\n",
        "     \n",
        "\n",
        "\n",
        "   "
      ],
      "execution_count": 9,
      "outputs": []
    },
    {
      "cell_type": "code",
      "metadata": {
        "id": "D_BQfiJ6tFsS",
        "colab_type": "code",
        "colab": {
          "base_uri": "https://localhost:8080/",
          "height": 297
        },
        "outputId": "4c4089e4-d029-46e0-e730-3fb3cc858bc9"
      },
      "source": [
        "import time\n",
        "start_time= time.time()\n",
        "accurary_5Classes = getKFoldCV(insects_5_classes, labels_5_classes, 5)\n",
        "end_time=time.time()\n",
        "print(accurary_5Classes)\n",
        "print(\"Total time taken {}\".format(end_time-start_time)) "
      ],
      "execution_count": null,
      "outputs": [
        {
          "output_type": "stream",
          "text": [
            "Original Sizes: (249, 64, 64, 3) (32, 64, 64, 3) (249, 5) (32, 5)\n",
            "Epoch 1/50\n",
            "4/4 [==============================] - 4s 984ms/step - loss: 0.7615 - accuracy: 0.8072 - val_loss: 3.5018e-07 - val_accuracy: 1.0000\n",
            "Epoch 2/50\n",
            "4/4 [==============================] - 4s 941ms/step - loss: 8.1960e-06 - accuracy: 1.0000 - val_loss: 0.0000e+00 - val_accuracy: 1.0000\n",
            "Epoch 3/50\n",
            "4/4 [==============================] - 4s 944ms/step - loss: 0.0000e+00 - accuracy: 1.0000 - val_loss: 0.0000e+00 - val_accuracy: 1.0000\n",
            "Epoch 4/50\n",
            "4/4 [==============================] - 4s 949ms/step - loss: 0.0000e+00 - accuracy: 1.0000 - val_loss: 0.0000e+00 - val_accuracy: 1.0000\n",
            "Epoch 5/50\n",
            "4/4 [==============================] - 4s 940ms/step - loss: 0.0000e+00 - accuracy: 1.0000 - val_loss: 0.0000e+00 - val_accuracy: 1.0000\n",
            "Epoch 6/50\n",
            "4/4 [==============================] - 4s 938ms/step - loss: 0.0000e+00 - accuracy: 1.0000 - val_loss: 0.0000e+00 - val_accuracy: 1.0000\n",
            "Epoch 7/50\n",
            "4/4 [==============================] - ETA: 0s - loss: 0.0000e+00 - accuracy: 1.0000"
          ],
          "name": "stdout"
        }
      ]
    },
    {
      "cell_type": "code",
      "metadata": {
        "id": "ONKIdNA0Fa8W",
        "colab_type": "code",
        "colab": {}
      },
      "source": [
        "accurary_5Classes"
      ],
      "execution_count": null,
      "outputs": []
    },
    {
      "cell_type": "code",
      "metadata": {
        "id": "IGpudv8BFa8c",
        "colab_type": "code",
        "colab": {}
      },
      "source": [
        "start_time= time.time()\n",
        "accurary_9Classes = getKFoldCV(insects_9_classes, labels_9_classes, 9)\n",
        "end_time=time.time()\n",
        "print(accurary_9Classes)\n",
        "print(\"Total time taken {}\".format(end_time-start_time))\n",
        "\n"
      ],
      "execution_count": null,
      "outputs": []
    },
    {
      "cell_type": "code",
      "metadata": {
        "id": "6ZMVLDTDFa8j",
        "colab_type": "code",
        "colab": {}
      },
      "source": [
        "accurary_9Classes"
      ],
      "execution_count": null,
      "outputs": []
    }
  ]
}